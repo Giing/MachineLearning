{
 "cells": [
  {
   "cell_type": "markdown",
   "id": "f61dde0d",
   "metadata": {},
   "source": [
    "### Objectifs\n",
    "\n",
    "1.  Continuer à travailler avec les [regroupements](http://scikit-learn.org/stable/modules/clustering.html) et les [classifications](http://scikit-learn.org/stable/modules/svm.html) algorithmes\n",
    "2.  Travaux sur les [modèles de régression linéaire](http://scikit-learn.org/stable/modules/linear_model.html)\n",
    "3.  Commencer à travailler sur les [modèles de réseaux de neurones](http://scikit-learn.org/stable/modules/neural_networks_supervised.html) y compris les perceptrons à une ou plusieurs couches.\n",
    "4.  Travaux sur les [arbres de décision](https://en.wikipedia.org/wiki/Decision_tree) et les [forêts aléatoires](https://en.wikipedia.org/wiki/Random_forest).\n",
    "5.  Continuer à travailler sur le [système de recommandation](https://en.wikipedia.org/wiki/Recommender_system)\n"
   ]
  },
  {
   "cell_type": "markdown",
   "id": "68caf7b3",
   "metadata": {},
   "source": [
    "#### Exercice 3.1 \\[★\\]\n",
    "\n",
    "Nous allons maintenant travailler avec la **régression linéaire** (voir [ici](http://scikit-learn.org/stable/modules/linear_model.html#ordinary-least-squares)).\n",
    "\n",
    "Voyons quelques programmes simples. Dans les données suivantes, où nous avons quelques exemples de données pour l'équation : *y = x*. Nous allons d'abord entraîner notre modèle de régression linéaire avec un très petit sous-ensemble et tester s'il est capable de prédire les valeurs *y-* pour de nouvelles valeurs *x-*."
   ]
  },
  {
   "cell_type": "code",
   "execution_count": 1,
   "id": "dffca6d6",
   "metadata": {},
   "outputs": [
    {
     "name": "stdout",
     "output_type": "stream",
     "text": [
      "[4.4408921e-16] [[1.]]\n",
      "[[ 6.]\n",
      " [ 7.]\n",
      " [ 8.]\n",
      " [ 9.]\n",
      " [10.]]\n"
     ]
    }
   ],
   "source": [
    "import numpy as np\n",
    "import matplotlib.pyplot as plot\n",
    "from sklearn.linear_model import LinearRegression\n",
    "numarray = np.array([[0,0], [1,1], [2,2], [3,3], [4,4], [5,5]])\n",
    "\n",
    "lr = LinearRegression()\n",
    "lr.fit(numarray[:, 0].reshape(-1, 1), numarray[:, 1].reshape(-1, 1))\n",
    "\n",
    "#printing coefficients\n",
    "print(lr.intercept_, lr.coef_)\n",
    "\n",
    "x_predict = np.array([6, 7, 8, 9, 10])\n",
    "\n",
    "y_predict = lr.predict(x_predict.reshape(-1, 1))\n",
    "print(y_predict)"
   ]
  },
  {
   "cell_type": "markdown",
   "id": "b730d5c7",
   "metadata": {},
   "source": [
    "Ensuite, nous avons quelques exemples de données pour l'équation : *y = x + 1*. Nous allons entraîner notre modèle de régression linéaire à tester s'il est capable de prédire les valeurs *y-* pour les nouvelles valeurs *x-*."
   ]
  },
  {
   "cell_type": "code",
   "execution_count": 2,
   "id": "aa471002",
   "metadata": {},
   "outputs": [
    {
     "name": "stdout",
     "output_type": "stream",
     "text": [
      "[1.] [[1.]]\n",
      "[[ 7.]\n",
      " [ 8.]\n",
      " [ 9.]\n",
      " [10.]\n",
      " [11.]]\n"
     ]
    }
   ],
   "source": [
    "import numpy as np\n",
    "import matplotlib.pyplot as plot\n",
    "from sklearn.linear_model import LinearRegression\n",
    "\n",
    "numarray = np.array([[0,1], [1,2], [2,3], [3,4], [4,5], [5,6]])\n",
    "\n",
    "lr = LinearRegression()\n",
    "lr.fit(numarray[:, 0].reshape(-1, 1), numarray[:, 1].reshape(-1, 1))\n",
    "\n",
    "#printing coefficients\n",
    "print(lr.intercept_, lr.coef_)\n",
    "\n",
    "x_predict = np.array([6, 7, 8, 9, 10])\n",
    "\n",
    "y_predict = lr.predict(x_predict.reshape(-1, 1))\n",
    "print(y_predict)"
   ]
  },
  {
   "cell_type": "markdown",
   "id": "ed47fc14",
   "metadata": {},
   "source": [
    "Mais, et si nous essayions le modèle de régression linéaire pour l'équation : *y = x<sup>2</sup>*. Qu'avez-vous observé avec le code suivant ? A-t-il prédit les valeurs *y-* correctement ?"
   ]
  },
  {
   "cell_type": "code",
   "execution_count": 3,
   "id": "d802cc32",
   "metadata": {},
   "outputs": [
    {
     "name": "stdout",
     "output_type": "stream",
     "text": [
      "[-3.33333333] [[5.]]\n",
      "[[26.66666667]\n",
      " [31.66666667]\n",
      " [36.66666667]\n",
      " [41.66666667]\n",
      " [46.66666667]]\n"
     ]
    }
   ],
   "source": [
    "import numpy as np\n",
    "import matplotlib.pyplot as plot\n",
    "from sklearn.linear_model import LinearRegression\n",
    "\n",
    "numarray = np.array([[0,0], [1,1], [2,4], [3,9], [4,16], [5,25]])\n",
    "\n",
    "lr = LinearRegression()\n",
    "lr.fit(numarray[:, 0].reshape(-1, 1), numarray[:, 1].reshape(-1, 1))\n",
    "\n",
    "#printing coefficients\n",
    "print(lr.intercept_, lr.coef_)\n",
    "\n",
    "x_predict = np.array([6, 7, 8, 9, 10])\n",
    "\n",
    "y_predict = lr.predict(x_predict.reshape(-1, 1))\n",
    "print(y_predict)"
   ]
  },
  {
   "cell_type": "markdown",
   "id": "3cccc39f",
   "metadata": {},
   "source": [
    "Maintenant, répétons l'expérience ci-dessus en utilisant des caractéristiques polynomiales. Essayez de changer la valeur de *degree* dans le code donné ci-dessous.\n",
    "\n"
   ]
  },
  {
   "cell_type": "code",
   "execution_count": 4,
   "id": "b5eb148d",
   "metadata": {},
   "outputs": [
    {
     "name": "stdout",
     "output_type": "stream",
     "text": [
      "[1.77635684e-15] [[ 0.00000000e+00 -1.55431223e-15  1.00000000e+00]]\n",
      "[[ 36.]\n",
      " [ 49.]\n",
      " [ 64.]\n",
      " [ 81.]\n",
      " [100.]]\n"
     ]
    }
   ],
   "source": [
    "import numpy as np\n",
    "import matplotlib.pyplot as plot\n",
    "from sklearn.linear_model import LinearRegression\n",
    "from sklearn.preprocessing import PolynomialFeatures\n",
    "\n",
    "numarray = np.array([[0,0], [1,1], [2,4], [3,9], [4,16], [5,25]])\n",
    "\n",
    "#using polynomial features\n",
    "pf = PolynomialFeatures(degree=2)\n",
    "x_poly = pf.fit_transform(numarray[:, 0].reshape(-1, 1))\n",
    "lr = LinearRegression()\n",
    "lr.fit(x_poly, numarray[:, 1].reshape(-1, 1))\n",
    "\n",
    "#printing coefficients\n",
    "print(lr.intercept_, lr.coef_)\n",
    "\n",
    "x_predict = np.array([6, 7, 8, 9, 10])\n",
    "\n",
    "y_predict = lr.predict(pf.fit_transform(x_predict.reshape(-1, 1)))\n",
    "print(y_predict)"
   ]
  },
  {
   "cell_type": "markdown",
   "id": "14f2d199",
   "metadata": {},
   "source": [
    "Essayons maintenant avec une équation polynomiale du troisième ordre (équation cubique)."
   ]
  },
  {
   "cell_type": "code",
   "execution_count": 5,
   "id": "b0437b6b",
   "metadata": {},
   "outputs": [
    {
     "name": "stdout",
     "output_type": "stream",
     "text": [
      "[2.13162821e-14] [[ 0.00000000e+00 -2.44249065e-15  2.63677968e-15  1.00000000e+00]]\n",
      "[[ 216.]\n",
      " [ 343.]\n",
      " [ 512.]\n",
      " [ 729.]\n",
      " [1000.]]\n"
     ]
    }
   ],
   "source": [
    "import numpy as np\n",
    "import matplotlib.pyplot as plot\n",
    "from sklearn.linear_model import LinearRegression\n",
    "from sklearn.preprocessing import PolynomialFeatures\n",
    "\n",
    "numarray = np.array([[0,0], [1,1], [2,8], [3,27], [4,64], [5,125]])\n",
    "\n",
    "#using polynomial features\n",
    "pf = PolynomialFeatures(degree=3)\n",
    "x_poly = pf.fit_transform(numarray[:, 0].reshape(-1, 1))\n",
    "lr = LinearRegression()\n",
    "lr.fit(x_poly, numarray[:, 1].reshape(-1, 1))\n",
    "\n",
    "#printing coefficients\n",
    "print(lr.intercept_, lr.coef_)\n",
    "\n",
    "x_predict = np.array([6, 7, 8, 9, 10])\n",
    "\n",
    "y_predict = lr.predict(pf.fit_transform(x_predict.reshape(-1, 1)))\n",
    "print(y_predict)"
   ]
  },
  {
   "cell_type": "markdown",
   "id": "ef498696",
   "metadata": {},
   "source": [
    "Nous utiliserons le fichier [population.csv](../../data/population.csv)\n",
    "Nous allons d'abord tracer cette population pluriannuelle."
   ]
  },
  {
   "cell_type": "code",
   "execution_count": 6,
   "id": "8a25a408",
   "metadata": {},
   "outputs": [
    {
     "data": {
      "text/plain": [
       "<AxesSubplot:xlabel='year', ylabel='population'>"
      ]
     },
     "execution_count": 6,
     "metadata": {},
     "output_type": "execute_result"
    },
    {
     "data": {
      "image/png": "[encoded data removed]",
      "text/plain": [
       "<Figure size 432x288 with 1 Axes>"
      ]
     },
     "metadata": {
      "needs_background": "light"
     },
     "output_type": "display_data"
    }
   ],
   "source": [
    "import numpy as np\n",
    "import matplotlib.pyplot as plot\n",
    "import pandas as pd\n",
    "dataset = np.loadtxt(\"../../data/population.csv\",\n",
    "    dtype={'names': ('year', 'population'), 'formats': ('i4', 'i')},\n",
    "        skiprows=1, delimiter=\",\", encoding=\"UTF-8\")\n",
    "\n",
    "df = pd.DataFrame(dataset)\n",
    "df.plot(x='year', y='population', kind='scatter')"
   ]
  },
  {
   "attachments": {
    "../../images/populationscatterplot.png": {
     "image/png": "[encoded data removed]"
    }
   },
   "cell_type": "markdown",
   "id": "13b28c41",
   "metadata": {},
   "source": [
    "![](attachment:../../images/populationscatterplot.png)\n",
    "\n",
    "Nous nous concentrerons sur les données à partir de 1960 (pourquoi ?). Notre objectif est d'utiliser\n",
    "des techniques de régression pour prédire la population. Mais nous ne savons pas comment vérifier. Donc, avec les données disponibles, nous créons deux catégories : les données de formation et les données de test.\n",
    "\n",
    "Nous continuons maintenant avec les données de population (de TP1 et TP2), que nous divisons en deux : les données d'entraînement et les données de test. Nous allons tracer les valeurs réelles de la population et les valeurs prédites.\n"
   ]
  },
  {
   "cell_type": "code",
   "execution_count": 7,
   "id": "693e2dd3",
   "metadata": {},
   "outputs": [
    {
     "name": "stdout",
     "output_type": "stream",
     "text": [
      "[-5.86674085e+08] [[324065.22138837]]\n"
     ]
    },
    {
     "data": {
      "image/png": "[encoded data removed]",
      "text/plain": [
       "<Figure size 432x288 with 1 Axes>"
      ]
     },
     "metadata": {
      "needs_background": "light"
     },
     "output_type": "display_data"
    }
   ],
   "source": [
    "import numpy as np\n",
    "import matplotlib.pyplot as plot\n",
    "import pandas as pd\n",
    "from sklearn.linear_model import LinearRegression\n",
    "dataset = np.loadtxt(\"../../data/population.csv\",\n",
    "    dtype={'names': ('year', 'population'), 'formats': ('i4', 'i')},\n",
    "        skiprows=1, delimiter=\",\", encoding=\"UTF-8\")\n",
    "\n",
    "df = pd.DataFrame(dataset[4:])\n",
    "\n",
    "#training data\n",
    "x_train = df['year'][:40].values.reshape(-1, 1)\n",
    "y_train = df['population'][:40].values.reshape(-1, 1)\n",
    "\n",
    "#training\n",
    "lr = LinearRegression()\n",
    "lr.fit(x_train, y_train)\n",
    "\n",
    "#printing coefficients\n",
    "print(lr.intercept_, lr.coef_)\n",
    "\n",
    "#prediction\n",
    "x_predict = x_train = df['year'][41:].values.reshape(-1, 1)\n",
    "y_actual = df['population'][41:].values.reshape(-1, 1) \n",
    "y_predict = lr.predict(x_predict)\n",
    "\n",
    "plot.scatter(x_predict, y_actual)\n",
    "plot.plot(x_predict, y_predict, color='red', linewidth=2)\n",
    "plot.show()"
   ]
  },
  {
   "attachments": {
    "../../images/allpopulationlinearregression.png": {
     "image/png": "[encoded data removed]"
    },
    "../../images/populationlinearregression.png": {
     "image/png": "[encoded data removed]"
    }
   },
   "cell_type": "markdown",
   "id": "cf4063aa",
   "metadata": {},
   "source": [
    "![](attachment:../../images/populationlinearregression.png)\n",
    "\n",
    "Testez maintenant le programme ci-dessus en incluant les données antérieures à 1960. Qu'avez-vous remarqué ? Vous avez peut-être le graphique suivant.\n",
    "\n",
    "![](attachment:../../images/allpopulationlinearregression.png)\n",
    "\n",
    "Quelles sont vos observations ? Le programme ci-dessus, qui utilise la régression linéaire, convient donc parfaitement à un sous-ensemble de données. Essayons maintenant avec des **caractéristiques polynomiales** (PolynomialFeatures) de degré 2 (voir [Polynomial Regression: Extending linear models](http://scikit-learn.org/stable/modules/linear_model.html#polynomial-regression-extending-linear-models-with-basis-functions)).\n",
    "\n"
   ]
  },
  {
   "cell_type": "code",
   "execution_count": 8,
   "id": "3d837137",
   "metadata": {},
   "outputs": [
    {
     "name": "stdout",
     "output_type": "stream",
     "text": [
      "[-4.30491266e+09] [[ 0.00000000e+00  4.06776344e+06 -9.42279929e+02]]\n"
     ]
    },
    {
     "data": {
      "image/png": "[encoded data removed]",
      "text/plain": [
       "<Figure size 432x288 with 1 Axes>"
      ]
     },
     "metadata": {
      "needs_background": "light"
     },
     "output_type": "display_data"
    }
   ],
   "source": [
    "import numpy as np\n",
    "import matplotlib.pyplot as plot\n",
    "import pandas as pd\n",
    "from sklearn.linear_model import LinearRegression\n",
    "from sklearn.preprocessing import PolynomialFeatures\n",
    "dataset = np.loadtxt(\"../../data/population.csv\",\n",
    "   dtype={'names': ('year', 'population'), \n",
    "              'formats': ('i4', 'i')},\n",
    "       skiprows=1, delimiter=\",\", encoding=\"UTF-8\")\n",
    "\n",
    "df = pd.DataFrame(dataset[4:])\n",
    "\n",
    "#training data\n",
    "\n",
    "x_train = df['year'][:50].values.reshape(-1, 1)\n",
    "y_train = df['population'][:50].values.reshape(-1, 1)\n",
    "\n",
    "pf = PolynomialFeatures(degree=2)\n",
    "x_poly = pf.fit_transform(x_train)\n",
    "\n",
    "#training\n",
    "lr = LinearRegression()\n",
    "lr.fit(x_poly, y_train)\n",
    "\n",
    "#printing coefficients\n",
    "print(lr.intercept_, lr.coef_)\n",
    "\n",
    "#prediction\n",
    "x_predict = x_train = df['year'][41:].values.reshape(-1, 1)\n",
    "y_actual = df['population'][41:].values.reshape(-1, 1) \n",
    "y_predict = lr.predict(pf.fit_transform(x_predict))\n",
    "\n",
    "plot.scatter(x_predict, y_actual)\n",
    "plot.plot(x_predict, y_predict, color='red', linewidth=2)\n",
    "plot.show()"
   ]
  },
  {
   "attachments": {
    "../../images/populationpolynomialregression.png": {
     "image/png": "[encoded data removed]"
    }
   },
   "cell_type": "markdown",
   "id": "a35b7b9f",
   "metadata": {},
   "source": [
    "![](attachment:../../images/populationpolynomialregression.png)\n",
    "\n",
    "Avant de passer à la conclusion, examinons l'ensemble des données et voyons."
   ]
  },
  {
   "cell_type": "code",
   "execution_count": 9,
   "id": "f7d80240",
   "metadata": {},
   "outputs": [
    {
     "name": "stdout",
     "output_type": "stream",
     "text": [
      "[7.53637479e+09] [[ 0.00000000e+00 -7.89980194e+06  2.08142727e+03]]\n"
     ]
    },
    {
     "data": {
      "image/png": "[encoded data removed]",
      "text/plain": [
       "<Figure size 432x288 with 1 Axes>"
      ]
     },
     "metadata": {
      "needs_background": "light"
     },
     "output_type": "display_data"
    }
   ],
   "source": [
    "import numpy as np\n",
    "import matplotlib.pyplot as plot\n",
    "import pandas as pd\n",
    "from sklearn.linear_model import LinearRegression\n",
    "from sklearn.preprocessing import PolynomialFeatures\n",
    "dataset = np.loadtxt(\"../../data/population.csv\",\n",
    "      dtype={'names': ('year', 'population'), 'formats': ('i4', 'i')},\n",
    "          skiprows=1, delimiter=\",\", encoding=\"UTF-8\")\n",
    "\n",
    "df = pd.DataFrame(dataset)\n",
    "\n",
    "#training data\n",
    "\n",
    "x_train = df['year'][:40].values.reshape(-1, 1)\n",
    "y_train = df['population'][:40].values.reshape(-1, 1)\n",
    "\n",
    "pf = PolynomialFeatures(degree=2)\n",
    "x_poly = pf.fit_transform(x_train)\n",
    "\n",
    "#training\n",
    "lr = LinearRegression()\n",
    "lr.fit(x_poly, y_train)\n",
    "\n",
    "#printing coefficients\n",
    "print(lr.intercept_, lr.coef_)\n",
    "\n",
    "#prediction\n",
    "x_predict = x_train = df['year'][41:].values.reshape(-1, 1)\n",
    "\n",
    "# Let's add some more years\n",
    "x_predict = np.append(range(1900, 1959), x_predict)\n",
    "x_predict = x_predict.reshape(-1, 1)\n",
    "\n",
    "y_actual = df['population'][41:].values.reshape(-1, 1) \n",
    "y_predict = lr.predict(pf.fit_transform(x_predict))\n",
    "\n",
    "plot.scatter(df['year'], df['population'])\n",
    "plot.plot(x_predict, y_predict, color='red', linewidth=2)\n",
    "plot.show()\n",
    "              \n",
    "             \n",
    "\n"
   ]
  },
  {
   "attachments": {
    "../../images/allpopulationpolynomialregression.png": {
     "image/png": "[encoded data removed]"
    }
   },
   "cell_type": "markdown",
   "id": "032445c9",
   "metadata": {},
   "source": [
    "![](attachment:../../images/allpopulationpolynomialregression.png)\n",
    "\n",
    "Qu'en pensez-vous ? Pouvons-nous utiliser ce programme pour prévoir les données manquantes (surtout en l'absence d'autres sources d'information externes) ? Essayez le programme ci-dessus à différents degrés.\n",
    "\n"
   ]
  },
  {
   "cell_type": "markdown",
   "id": "f29ae623",
   "metadata": {},
   "source": [
    "#### Exercice 3.2 \\[★★\\]\n",
    "\n",
    "Les classificateurs sont utiles pour classer notre ensemble de données dans une ou plusieurs classes. Mais contrairement aux algorithmes de regroupement, c'est l'utilisateur qui doit classer les données dans un algorithme de classification. Dans les exercices suivants, nous voyons différents classificateurs, en commençant par le perceptron. Regardez les données d'entrée (*numarray*) et les étiquettes associées (*resultat*). Ici, nous allons étiqueter l'ensemble des données et voir si notre modèle (Perceptron) a bien fonctionné.\n",
    "\n"
   ]
  },
  {
   "cell_type": "code",
   "execution_count": null,
   "id": "b9f62edb",
   "metadata": {},
   "outputs": [],
   "source": [
    "import numpy as np\n",
    "import matplotlib.pyplot as plot\n",
    "from sklearn.linear_model import Perceptron\n",
    "\n",
    "numarray = np.array([[0,0,0,0], [0,0,0,1], [0,0,1,0], [0,0,1,1],\n",
    "          [0,1,0,0], [0,1,0,1], [0,1,1,0], [0,1,1,1],\n",
    "          [1,0,0,0], [1,0,0,1], [1,0,1,0], [1,0,1,1],\n",
    "          [1,1,0,0], [1,1,0,1], [1,1,1,0], [1,1,1,1]])\n",
    "result = np.array([0, 0, 0, 0,\n",
    "          0, 0, 0, 0,\n",
    "          1, 1, 1, 1,\n",
    "          1, 1, 1, 1])\n",
    "\n",
    "perceptron = Perceptron(max_iter=1000)\n",
    "perceptron.fit(numarray, result)\n",
    "\n",
    "x_predict = np.array([[0,1,0,1], [1,0,1,1] ])\n",
    "\n",
    "y_predict = perceptron.predict(x_predict)\n",
    "print(y_predict)"
   ]
  },
  {
   "cell_type": "markdown",
   "id": "b12e3869",
   "metadata": {},
   "source": [
    "Nous allons maintenant supprimer certaines données étiquetées/classées et voir les résultats prévus.\n"
   ]
  },
  {
   "cell_type": "code",
   "execution_count": null,
   "id": "1c5f1255",
   "metadata": {},
   "outputs": [],
   "source": [
    "    import numpy as np\n",
    "    import matplotlib.pyplot as plot\n",
    "    from sklearn.linear_model import Perceptron\n",
    "\n",
    "    numarray = np.array([[0,0,0,0], [0,0,0,1], \n",
    "          [0,1,0,0], [0,1,1,1],\n",
    "          [1,0,0,1], [1,0,1,0], \n",
    "          [1,1,1,0], [1,1,1,1]])\n",
    "    result = np.array([0, 0, \n",
    "          0, 0, \n",
    "          1, 1,\n",
    "          1, 1])\n",
    "\n",
    "    perceptron = Perceptron(max_iter=1000)\n",
    "    perceptron.fit(numarray, result)\n",
    "\n",
    "    x_predict = np.array([[0,1,0,1], [1,0,1,1], [1,1,0,0], [0,1,0,1]])\n",
    "\n",
    "    y_predict = perceptron.predict(x_predict)\n",
    "    print(y_predict)\n",
    "\n"
   ]
  },
  {
   "cell_type": "markdown",
   "id": "3b951605",
   "metadata": {},
   "source": [
    "Maintenant, nous allons essayer un autre classificateur : MLPClassifier\n",
    "\n"
   ]
  },
  {
   "cell_type": "code",
   "execution_count": null,
   "id": "cb5607a9",
   "metadata": {},
   "outputs": [],
   "source": [
    "import numpy as np\n",
    "import matplotlib.pyplot as plot\n",
    "from sklearn.neural_network import MLPClassifier\n",
    "\n",
    "numarray = np.array([[0,0,0,0], [0,0,0,1], \n",
    "          [0,1,0,0], [0,1,1,1],\n",
    "          [1,0,0,1], [1,0,1,0], \n",
    "          [1,1,1,0], [1,1,1,1]])\n",
    "\n",
    "result = np.array([0, 0, \n",
    "        0, 0, \n",
    "        1, 1,\n",
    "        1, 1])\n",
    "\n",
    "mlpclassifier = MLPClassifier(alpha=2, max_iter=1000)\n",
    "mlpclassifier.fit(numarray, result)\n",
    "\n",
    "x_predict = np.array([[0,1,0,1], [1,0,1,1], [1,1,0,0], [0,1,0,1]])\n",
    "\n",
    "y_predict = mlpclassifier.predict(x_predict)\n",
    "print(y_predict)"
   ]
  },
  {
   "cell_type": "markdown",
   "id": "12543e76",
   "metadata": {},
   "source": [
    "Maintenant, nous allons essayer un autre classificateur utilisant des machines à vecteurs de support.\n"
   ]
  },
  {
   "cell_type": "code",
   "execution_count": null,
   "id": "ca4327d8",
   "metadata": {},
   "outputs": [],
   "source": [
    "import numpy as np\n",
    "import matplotlib.pyplot as plot\n",
    "from sklearn import datasets, svm, metrics\n",
    "\n",
    "numarray = numarray = np.array([[0,0,0,0], [0,0,0,1], \n",
    "          [0,1,0,0], [0,1,1,1],\n",
    "          [1,0,0,1], [1,0,1,0], \n",
    "          [1,1,1,0], [1,1,1,1]])\n",
    "\n",
    "result = np.array([0, 0, \n",
    "        0, 0, \n",
    "        1, 1,\n",
    "        1, 1]) \n",
    "\n",
    "svcclassifier = svm.SVC(gamma=0.001, C=100.)\n",
    "svcclassifier.fit(numarray, result)\n",
    "\n",
    "x_predict = np.array([[0,1,0,1], [1,0,1,1], [1,1,0,0], [0,1,0,1]])\n",
    "\n",
    "y_predict = svcclassifier.predict(x_predict)\n",
    "print(y_predict)\n",
    "\n"
   ]
  },
  {
   "cell_type": "markdown",
   "id": "9ec5a803",
   "metadata": {},
   "source": [
    "Nous allons maintenant utiliser scikit-learn et les classificateurs vus plus haut pour reconnaître l'écriture manuscrite. Scikit-learn dispose de nombreux ensembles de données. Nous utiliserons un de ces ensembles de données appelé \"digits dataset\", qui consiste en des images d'écriture manuscrite étiquetées de chiffres. Le programme suivant affichera les étiquettes."
   ]
  },
  {
   "cell_type": "code",
   "execution_count": null,
   "id": "14dcab38",
   "metadata": {},
   "outputs": [],
   "source": [
    "from sklearn import datasets\n",
    "import numpy as np\n",
    "  \n",
    "digits = datasets.load_digits()\n",
    "  \n",
    "print(np.unique(digits.target))"
   ]
  },
  {
   "cell_type": "markdown",
   "id": "7527cc68",
   "metadata": {},
   "source": [
    "Nous allons maintenant voir le nombre total d'images et le contenu d'une image test."
   ]
  },
  {
   "cell_type": "code",
   "execution_count": null,
   "id": "a37f32a6",
   "metadata": {},
   "outputs": [],
   "source": [
    "from sklearn import datasets\n",
    "import numpy as np\n",
    "import matplotlib.pyplot as plot\n",
    "  \n",
    "digits = datasets.load_digits()\n",
    "  \n",
    "print(\"Number of images: \", digits.images.size)\n",
    "print(\"Input data: \", digits.images[0])\n",
    "print(\"Label:\", digits.target[0])\n",
    "  \n",
    "plot.imshow(digits.images[0], cmap=plot.cm.gray_r)\n",
    "plot.show()"
   ]
  },
  {
   "cell_type": "markdown",
   "id": "4ef8a355",
   "metadata": {},
   "source": [
    "Nous allons maintenant utiliser un classificateur de vecteurs de support pour former les données. Nous allons diviser nos données en deux : les données d'entraînement et les données de test. N'oubliez pas que nous disposons déjà d'étiquettes pour l'ensemble des données."
   ]
  },
  {
   "cell_type": "code",
   "execution_count": null,
   "id": "6d2d60c4",
   "metadata": {},
   "outputs": [],
   "source": [
    "from sklearn import datasets, svm\n",
    "import numpy as np\n",
    "import matplotlib.pyplot as plot\n",
    "  \n",
    "digits = datasets.load_digits()\n",
    "  \n",
    "training_images = digits.images[:int(digits.images.shape[0]/2)]\n",
    "training_images = training_images.reshape(\n",
    "                 (training_images.shape[0], -1))\n",
    "  \n",
    "training_target = digits.target[0:int(digits.target.shape[0]/2)]\n",
    "  \n",
    "classifier = svm.SVC(gamma=0.001, C=100.)\n",
    "\n",
    "#training\n",
    "classifier.fit(training_images, training_target)\n",
    "  \n",
    "#prediction\n",
    "predict_image = digits.images[int(digits.images.shape[0]/2)+2]\n",
    "print(\"Predicted value: \",\n",
    "      classifier.predict(predict_image.reshape(1,-1)))\n",
    "  \n",
    "plot.imshow(predict_image, cmap=plot.cm.gray_r)\n",
    "plot.show()"
   ]
  },
  {
   "attachments": {
    "../../images/scikitlearnfour.png": {
     "image/png": "[encoded data removed]"
    }
   },
   "cell_type": "markdown",
   "id": "1bc438bc",
   "metadata": {},
   "source": [
    "![](attachment:../../images/scikitlearnfour.png)\n",
    "\n",
    "Essayons maintenant de prédire les étiquettes restantes et utilisons le rapport de classification pour obtenir la précision de la prédiction."
   ]
  },
  {
   "cell_type": "code",
   "execution_count": null,
   "id": "f7d86ff9",
   "metadata": {},
   "outputs": [],
   "source": [
    "from sklearn import datasets, svm, metrics\n",
    "import numpy as np\n",
    "import matplotlib.pyplot as plot\n",
    "  \n",
    "digits = datasets.load_digits()\n",
    "  \n",
    "training_images = digits.images[:int(digits.images.shape[0]/2)]\n",
    "training_images = training_images.reshape(\n",
    "                 (training_images.shape[0], -1))\n",
    "  \n",
    "training_target = digits.target[0:int(digits.target.shape[0]/2)]\n",
    "  \n",
    "classifier = svm.SVC(gamma=0.001, C=100.)\n",
    "#training\n",
    "classifier.fit(training_images, training_target)\n",
    "  \n",
    "#prediction\n",
    "predict_images = digits.images[int(digits.images.shape[0]/2)+1:]\n",
    "actual_labels = digits.target[int(digits.target.shape[0]/2)+1:]\n",
    "predicted_labels = classifier.predict(\n",
    "        predict_images.reshape((predict_images.shape[0], -1)))\n",
    "  \n",
    "#classification report\n",
    "print(metrics.classification_report(actual_labels,predicted_labels))"
   ]
  },
  {
   "cell_type": "markdown",
   "id": "bb8b8fe4",
   "metadata": {},
   "source": [
    "Il existe d'autres classificateurs. Nous allons maintenant travailler avec Perceptron (voir [ici](http://scikit-learn.org/stable/modules/linear_model.html#perceptron)) et voir ses performances."
   ]
  },
  {
   "cell_type": "code",
   "execution_count": null,
   "id": "bea86232",
   "metadata": {},
   "outputs": [],
   "source": [
    "from sklearn import datasets, metrics\n",
    "from sklearn.linear_model import Perceptron\n",
    "import numpy as np\n",
    "import matplotlib.pyplot as plot\n",
    "  \n",
    "digits = datasets.load_digits()\n",
    "  \n",
    "training_images = digits.images[:int(digits.images.shape[0]/2)]\n",
    "training_images = training_images.reshape(\n",
    "        (training_images.shape[0], -1))\n",
    "  \n",
    "training_target = digits.target[0:int(digits.target.shape[0]/2)]\n",
    "  \n",
    "classifier = Perceptron(max_iter=1000)\n",
    "#training\n",
    "classifier.fit(training_images, training_target)\n",
    "  \n",
    "#prediction\n",
    "predict_images = digits.images[int(digits.images.shape[0]/2)+1:]\n",
    "actual_labels = digits.target[int(digits.target.shape[0]/2)+1:]\n",
    "predicted_labels = classifier.predict(\n",
    "        predict_images.reshape((predict_images.shape[0], -1)))\n",
    "  \n",
    "#classification report\n",
    "print(metrics.classification_report(\n",
    "        actual_labels,predicted_labels))"
   ]
  },
  {
   "cell_type": "markdown",
   "id": "a2327460",
   "metadata": {},
   "source": [
    "Enfin, nous terminerons le test avec le Perceptron multicouche (voir\n",
    "[ici](http://scikit-learn.org/stable/modules/neural_networks_supervised.html#multi-layer-perceptron))."
   ]
  },
  {
   "cell_type": "code",
   "execution_count": null,
   "id": "76fa9392",
   "metadata": {},
   "outputs": [],
   "source": [
    "from sklearn import datasets, metrics\n",
    "from sklearn.neural_network import MLPClassifier\n",
    "import numpy as np\n",
    "import matplotlib.pyplot as plot\n",
    "  \n",
    "digits = datasets.load_digits()\n",
    "  \n",
    "training_images = digits.images[:int(digits.images.shape[0]/2)]\n",
    "training_images = training_images.reshape((training_images.shape[0], -1))\n",
    "  \n",
    "training_target = digits.target[0:int(digits.target.shape[0]/2)]\n",
    "  \n",
    "classifier = MLPClassifier(alpha=2, max_iter=1000)\n",
    "#training\n",
    "classifier.fit(training_images, training_target)\n",
    "  \n",
    "#prediction\n",
    "predict_images = digits.images[int(digits.images.shape[0]/2)+1:]\n",
    "actual_labels = digits.target[int(digits.target.shape[0]/2)+1:]\n",
    "predicted_labels = classifier.predict(\n",
    "         predict_images.reshape((predict_images.shape[0], -1)))\n",
    "  \n",
    "#classification report\n",
    "print(metrics.classification_report(actual_labels,predicted_labels))"
   ]
  },
  {
   "cell_type": "markdown",
   "id": "f3186cc7",
   "metadata": {},
   "source": [
    "Avez-vous essayé de modifier le nombre de couches cachées ?\n",
    "\n",
    "Quelles sont vos observations après avoir essayé les différents classificateurs ?\n",
    "\n",
    "Votre prochaine question est de tracer les mesures de confusion pour les trois classificateurs ci-dessus."
   ]
  },
  {
   "cell_type": "markdown",
   "id": "27903e6e",
   "metadata": {},
   "source": [
    "#### Exercice 3.3 \\[★★\\]\n",
    "\n",
    "Nous allons d'abord construire un classificateur d'arbres de décision en utilisant un exemple très simple. Comme les classificateurs que nous avons vus auparavant, nous essaierons d'abord de faire correspondre nos données et ensuite de prédire une classe pour une valeur jamais vue auparavant.\n",
    "\n"
   ]
  },
  {
   "cell_type": "code",
   "execution_count": null,
   "id": "2f97828c",
   "metadata": {},
   "outputs": [],
   "source": [
    "from sklearn import tree\n",
    "data = [[0, 0], \n",
    "            [1, 1],\n",
    "            [1, 0]]\n",
    "\n",
    "result = [1, 0, 1]\n",
    "dtc = tree.DecisionTreeClassifier()\n",
    "dtc = dtc.fit(data, result)\n",
    "dtc.predict([[1, 1]])"
   ]
  },
  {
   "cell_type": "markdown",
   "id": "ff1867b7",
   "metadata": {},
   "source": [
    "Notre prochain objectif est de visualiser l'arbre de décision. Regardez le code suivant et voyez comment nous avons donné des noms aux deux colonnes des données ci-dessus. Nous avons également donné des noms aux entrées de données *résultat*, en les appelant *classe1* et *classe2*."
   ]
  },
  {
   "cell_type": "markdown",
   "id": "debb7686",
   "metadata": {},
   "source": [
    "For the next code, you may need to install graphviz and pydotplus"
   ]
  },
  {
   "cell_type": "code",
   "execution_count": null,
   "id": "7d71e54f",
   "metadata": {},
   "outputs": [],
   "source": [
    "! pip3 install graphviz pydotplus"
   ]
  },
  {
   "cell_type": "markdown",
   "id": "3eb11900",
   "metadata": {},
   "source": [
    "Vous pouvez avoir besoin de lancer `sudo apt install graphviz` dans le terminal pour installer l'exécutable graphviz."
   ]
  },
  {
   "cell_type": "code",
   "execution_count": null,
   "id": "7d93ef42",
   "metadata": {},
   "outputs": [],
   "source": [
    "from sklearn import tree\n",
    "import graphviz\n",
    "import pydotplus\n",
    "from IPython.display import Image, display\n",
    "\n",
    "data = [[0, 0], \n",
    "            [1, 1],\n",
    "            [1, 0]]\n",
    "result = [1, 0, 1]\n",
    "dtc = tree.DecisionTreeClassifier()\n",
    "dtc = dtc.fit(data, result)\n",
    "\n",
    "dot_data = tree.export_graphviz(dtc, out_file=None,\n",
    "                     feature_names=['column1', 'column2'],\n",
    "                     filled=True, rounded=True, \n",
    "                     class_names = ['class1', 'class2']\n",
    "                     ) \n",
    "graph = graphviz.Source(dot_data)\n",
    "pydot_graph = pydotplus.graph_from_dot_data(dot_data)\n",
    "img = Image(pydot_graph.create_png())\n",
    "display(img)"
   ]
  },
  {
   "cell_type": "markdown",
   "id": "98e0fb9b",
   "metadata": {},
   "source": [
    "Prenons maintenant un exemple réaliste. Dans le code suivant, nous considérons 13 photos marquées par un utilisateur comme \"Favorite\" et \"NotFavorite\". Pour chaque photo : nous avons quatre informations : la couleur, le tag, la taille (taille moyenne, vignette, etc.) et le mode dans lequel la photo a été prise (portrait ou paysage). Nous allons construire un classificateur d'arbre de décision avec ces données. Nous prévoyons ensuite si notre utilisateur aimera une photographie de nature dont la couleur prédominante est le rouge, dont la taille est celle d'une vignette et qui a été prise en mode portrait.\n",
    "\n",
    "Dans le code suivant, nous affichons deux valeurs. Nous prédisons si l'utilisateur va préférer la photographie ou non. Nous affichons également l'importance de chacune des caractéristiques : couleur, tag, taille et mode.\n"
   ]
  },
  {
   "cell_type": "code",
   "execution_count": 10,
   "id": "a7179354",
   "metadata": {},
   "outputs": [
    {
     "name": "stdout",
     "output_type": "stream",
     "text": [
      "['Favorite']\n",
      "[0.         0.7787234  0.08297872 0.13829787]\n"
     ]
    }
   ],
   "source": [
    "from sklearn import tree\n",
    "import pandas as pd\n",
    "from sklearn.preprocessing import LabelEncoder\n",
    "\n",
    "data = [\n",
    "            ['green', 'nature', 'thumbnail', 'landscape'], \n",
    "            ['blue', 'architecture', 'medium', 'portrait'],\n",
    "            ['blue', 'people', 'medium', 'landscape'],\n",
    "            ['yellow', 'nature', 'medium', 'portrait'],\n",
    "            ['green', 'nature', 'thumbnail', 'landscape'],\n",
    "            ['blue', 'people', 'medium', 'landscape'],\n",
    "            ['blue', 'nature', 'thumbnail', 'portrait'],\n",
    "            ['yellow', 'architecture', 'thumbnail', 'landscape'],\n",
    "            ['blue', 'people', 'medium', 'portrait'],\n",
    "            ['yellow', 'nature', 'medium', 'landscape'],\n",
    "            ['yellow', 'people', 'thumbnail', 'portrait'],\n",
    "            ['blue', 'people', 'medium', 'landscape'],\n",
    "            ['red', 'architecture', 'thumbnail','landscape']]\n",
    "result = [\n",
    "              'Favorite',\n",
    "              'NotFavorite',\n",
    "              'Favorite',\n",
    "              'Favorite',\n",
    "              'Favorite',\n",
    "              'Favorite',\n",
    "              'Favorite',\n",
    "              'NotFavorite',\n",
    "              'NotFavorite',\n",
    "              'Favorite',\n",
    "              'Favorite',\n",
    "              'NotFavorite',\n",
    "              'NotFavorite'\n",
    "              ]\n",
    "\n",
    "\n",
    "#creating dataframes\n",
    "dataframe = pd.DataFrame(data, columns=['color', 'tag', 'size', 'mode'])\n",
    "resultframe = pd.DataFrame(result, columns=['favorite'])\n",
    "\n",
    "#generating numerical labels\n",
    "le1 = LabelEncoder()\n",
    "dataframe['color'] = le1.fit_transform(dataframe['color'])\n",
    "\n",
    "le2 = LabelEncoder()\n",
    "dataframe['tag'] = le2.fit_transform(dataframe['tag'])\n",
    "\n",
    "le3 = LabelEncoder()\n",
    "dataframe['size'] = le3.fit_transform(dataframe['size'])\n",
    "\n",
    "le4 = LabelEncoder()\n",
    "dataframe['mode'] = le4.fit_transform(dataframe['mode'])\n",
    "\n",
    "le5 = LabelEncoder()\n",
    "resultframe['favorite'] = le5.fit_transform(resultframe['favorite'])\n",
    "\n",
    "#Use of decision tree classifiers\n",
    "dtc = tree.DecisionTreeClassifier()\n",
    "dtc = dtc.fit(dataframe, resultframe)\n",
    "\n",
    "#prediction\n",
    "prediction = dtc.predict([\n",
    "        [le1.transform(['red'])[0], le2.transform(['nature'])[0],\n",
    "         le3.transform(['thumbnail'])[0], le4.transform(['portrait'])[0]]])\n",
    "print(le5.inverse_transform(prediction))\n",
    "print(dtc.feature_importances_)"
   ]
  },
  {
   "cell_type": "markdown",
   "id": "59856ce9",
   "metadata": {},
   "source": [
    "Quelles sont vos observations ?\n",
    "\n"
   ]
  },
  {
   "cell_type": "markdown",
   "id": "c0814250",
   "metadata": {},
   "source": [
    "Notre prochain objectif est de visualiser l'arbre de décision ci-dessus. Testez le code ci-dessous. Il est similaire au code que nous avons testé auparavant. Regardez les classes et les fonctionnalités."
   ]
  },
  {
   "cell_type": "code",
   "execution_count": 19,
   "id": "e114b41a",
   "metadata": {},
   "outputs": [
    {
     "name": "stdout",
     "output_type": "stream",
     "text": [
      "Collecting graphviz\n",
      "  Using cached https://files.pythonhosted.org/packages/9d/fb/886e8ec7862989afc0c35d15813b6c665fe134cc6027cdde2fa300abe9a2/graphviz-0.19.1-py3-none-any.whl\n",
      "Installing collected packages: graphviz\n",
      "Successfully installed graphviz-0.19.1\n",
      "Collecting pydotplus\n",
      "  Downloading https://files.pythonhosted.org/packages/60/bf/62567830b700d9f6930e9ab6831d6ba256f7b0b730acb37278b0ccdffacf/pydotplus-2.0.2.tar.gz (278kB)\n",
      "\u001b[K    100% |████████████████████████████████| 286kB 3.0MB/s eta 0:00:01\n",
      "\u001b[?25hCollecting pyparsing>=2.0.1 (from pydotplus)\n",
      "  Downloading https://files.pythonhosted.org/packages/80/c1/23fd82ad3121656b585351aba6c19761926bb0db2ebed9e4ff09a43a3fcc/pyparsing-3.0.7-py3-none-any.whl (98kB)\n",
      "\u001b[K    100% |████████████████████████████████| 102kB 14.8MB/s a 0:00:01\n",
      "\u001b[?25hBuilding wheels for collected packages: pydotplus\n",
      "  Running setup.py bdist_wheel for pydotplus ... \u001b[?25ldone\n",
      "\u001b[?25h  Stored in directory: /run/shm/.cache/baptiste.lazareth/pip/wheels/35/7b/ab/66fb7b2ac1f6df87475b09dc48e707b6e0de80a6d8444e3628\n",
      "Successfully built pydotplus\n",
      "Installing collected packages: pyparsing, pydotplus\n",
      "Successfully installed pydotplus-2.0.2 pyparsing-3.0.7\n"
     ]
    }
   ],
   "source": [
    "!pip3 install graphviz\n",
    "!pip3 install pydotplus"
   ]
  },
  {
   "cell_type": "code",
   "execution_count": 20,
   "id": "409126ff",
   "metadata": {},
   "outputs": [
    {
     "data": {
      "image/png": "[encoded data removed]",
      "text/plain": [
       "<IPython.core.display.Image object>"
      ]
     },
     "metadata": {},
     "output_type": "display_data"
    }
   ],
   "source": [
    " \n",
    "    from sklearn import tree\n",
    "    import pandas as pd\n",
    "    from sklearn.preprocessing import LabelEncoder\n",
    "    import graphviz\n",
    "    import pydotplus\n",
    "    from IPython.display import Image, display\n",
    "\n",
    "    data = [\n",
    "            ['green', 'nature', 'thumbnail', 'landscape'], \n",
    "            ['blue', 'architecture', 'medium', 'portrait'],\n",
    "            ['blue', 'people', 'medium', 'landscape'],\n",
    "            ['yellow', 'nature', 'medium', 'portrait'],\n",
    "            ['green', 'nature', 'thumbnail', 'landscape'],\n",
    "            ['blue', 'people', 'medium', 'landscape'],\n",
    "            ['blue', 'nature', 'thumbnail', 'portrait'],\n",
    "            ['yellow', 'architecture', 'thumbnail', 'landscape'],\n",
    "            ['blue', 'people', 'medium', 'portrait'],\n",
    "            ['yellow', 'nature', 'medium', 'landscape'],\n",
    "            ['yellow', 'people', 'thumbnail', 'portrait'],\n",
    "            ['blue', 'people', 'medium', 'landscape'],\n",
    "            ['red', 'architecture', 'thumbnail','landscape']]\n",
    "    result = [\n",
    "              'Favorite',\n",
    "              'NotFavorite',\n",
    "              'Favorite',\n",
    "              'Favorite',\n",
    "              'Favorite',\n",
    "              'Favorite',\n",
    "              'Favorite',\n",
    "              'NotFavorite',\n",
    "              'NotFavorite',\n",
    "              'Favorite',\n",
    "              'Favorite',\n",
    "              'NotFavorite',\n",
    "              'NotFavorite'\n",
    "              ]\n",
    "\n",
    "\n",
    "    #creating dataframes\n",
    "    dataframe = pd.DataFrame(data, columns=['color', 'tag', 'size', 'mode'])\n",
    "    resultframe = pd.DataFrame(result, columns=['favorite'])\n",
    "\n",
    "    #generating numerical labels\n",
    "    le1 = LabelEncoder()\n",
    "    dataframe['color'] = le1.fit_transform(dataframe['color'])\n",
    "\n",
    "    le2 = LabelEncoder()\n",
    "    dataframe['tag'] = le2.fit_transform(dataframe['tag'])\n",
    "\n",
    "    le3 = LabelEncoder()\n",
    "    dataframe['size'] = le3.fit_transform(dataframe['size'])\n",
    "\n",
    "    le4 = LabelEncoder()\n",
    "    dataframe['mode'] = le4.fit_transform(dataframe['mode'])\n",
    "\n",
    "    le5 = LabelEncoder()\n",
    "    resultframe['favorite'] = le5.fit_transform(resultframe['favorite'])\n",
    "\n",
    "    #Use of decision tree classifiers\n",
    "    dtc = tree.DecisionTreeClassifier()\n",
    "    dtc = dtc.fit(dataframe, resultframe)\n",
    "\n",
    "    dot_data = tree.export_graphviz(dtc, out_file=None,\n",
    "          feature_names=dataframe.columns,\n",
    "          filled=True, rounded=True, \n",
    "          class_names =\n",
    "          le5.inverse_transform(\n",
    "            resultframe.favorite.unique())\n",
    "         ) \n",
    "    graph = graphviz.Source(dot_data) \n",
    "     \n",
    "    pydot_graph = pydotplus.graph_from_dot_data(dot_data)\n",
    "    img = Image(pydot_graph.create_png())\n",
    "    display(img)\n",
    "\n"
   ]
  },
  {
   "cell_type": "markdown",
   "id": "86793525",
   "metadata": {},
   "source": [
    "Et si nous avions la possibilité d'avoir plusieurs arbres de décision ? Prévoyons en utilisant un classificateur forestier aléatoire (qui peut être considéré comme une collection d'arbres décisionnels multiples). Vérifiez la valeur prédite ainsi que l'importance des différentes caractéristiques. Notez que nous demandons de créer 10 estimateurs de ce type en utilisant une profondeur maximale de 2 pour chacun des estimateurs.\n"
   ]
  },
  {
   "cell_type": "code",
   "execution_count": null,
   "id": "becbcb12",
   "metadata": {},
   "outputs": [],
   "source": [
    "from sklearn import tree\n",
    "import pandas as pd\n",
    "from sklearn.ensemble import RandomForestClassifier\n",
    "from sklearn.preprocessing import LabelEncoder\n",
    "import graphviz\n",
    "import pydotplus\n",
    "from IPython.display import Image, display\n",
    "\n",
    "data = [\n",
    "            ['green', 'nature', 'thumbnail', 'landscape'], \n",
    "            ['blue', 'architecture', 'medium', 'portrait'],\n",
    "            ['blue', 'people', 'medium', 'landscape'],\n",
    "            ['yellow', 'nature', 'medium', 'portrait'],\n",
    "            ['green', 'nature', 'thumbnail', 'landscape'],\n",
    "            ['blue', 'people', 'medium', 'landscape'],\n",
    "            ['blue', 'nature', 'thumbnail', 'portrait'],\n",
    "            ['yellow', 'architecture', 'thumbnail', 'landscape'],\n",
    "            ['blue', 'people', 'medium', 'portrait'],\n",
    "            ['yellow', 'nature', 'medium', 'landscape'],\n",
    "            ['yellow', 'people', 'thumbnail', 'portrait'],\n",
    "            ['blue', 'people', 'medium', 'landscape'],\n",
    "            ['red', 'architecture', 'thumbnail','landscape']]\n",
    "result = [\n",
    "              'Favorite',\n",
    "              'NotFavorite',\n",
    "              'Favorite',\n",
    "              'Favorite',\n",
    "              'Favorite',\n",
    "              'Favorite',\n",
    "              'Favorite',\n",
    "              'NotFavorite',\n",
    "              'NotFavorite',\n",
    "              'Favorite',\n",
    "              'Favorite',\n",
    "              'NotFavorite',\n",
    "              'NotFavorite'\n",
    "              ]\n",
    "\n",
    "\n",
    "#creating dataframes\n",
    "dataframe = pd.DataFrame(data, columns=['color', 'tag', 'size', 'mode'])\n",
    "resultframe = pd.DataFrame(result, columns=['favorite'])\n",
    "\n",
    "#generating numerical labels\n",
    "le1 = LabelEncoder()\n",
    "dataframe['color'] = le1.fit_transform(dataframe['color'])\n",
    "\n",
    "le2 = LabelEncoder()\n",
    "dataframe['tag'] = le2.fit_transform(dataframe['tag'])\n",
    "\n",
    "le3 = LabelEncoder()\n",
    "dataframe['size'] = le3.fit_transform(dataframe['size'])\n",
    "\n",
    "le4 = LabelEncoder()\n",
    "dataframe['mode'] = le4.fit_transform(dataframe['mode'])\n",
    "\n",
    "le5 = LabelEncoder()\n",
    "resultframe['favorite'] = le5.fit_transform(resultframe['favorite'])\n",
    "\n",
    "#Use of random forest classifier\n",
    "rfc = RandomForestClassifier(n_estimators=10, max_depth=2,\n",
    "                  random_state=0)\n",
    "rfc = rfc.fit(dataframe, resultframe.values.ravel())\n",
    "\n",
    "#prediction\n",
    "prediction = rfc.predict([\n",
    "        [le1.transform(['red'])[0], le2.transform(['nature'])[0],\n",
    "         le3.transform(['thumbnail'])[0], le4.transform(['portrait'])[0]]])\n",
    "print(le5.inverse_transform(prediction))\n",
    "print(rfc.feature_importances_)"
   ]
  },
  {
   "cell_type": "markdown",
   "id": "8440dd72",
   "metadata": {},
   "source": [
    "Enfin, nous visualisons ces estimateurs."
   ]
  },
  {
   "cell_type": "code",
   "execution_count": null,
   "id": "bf5e268c",
   "metadata": {},
   "outputs": [],
   "source": [
    "from sklearn import tree\n",
    "import pandas as pd\n",
    "from sklearn.ensemble import RandomForestClassifier\n",
    "from sklearn.preprocessing import LabelEncoder\n",
    "import graphviz\n",
    "import pydotplus\n",
    "from IPython.display import Image, display\n",
    "\n",
    "data = [\n",
    "            ['green', 'nature', 'thumbnail', 'landscape'], \n",
    "            ['blue', 'architecture', 'medium', 'portrait'],\n",
    "            ['blue', 'people', 'medium', 'landscape'],\n",
    "            ['yellow', 'nature', 'medium', 'portrait'],\n",
    "            ['green', 'nature', 'thumbnail', 'landscape'],\n",
    "            ['blue', 'people', 'medium', 'landscape'],\n",
    "            ['blue', 'nature', 'thumbnail', 'portrait'],\n",
    "            ['yellow', 'architecture', 'thumbnail', 'landscape'],\n",
    "            ['blue', 'people', 'medium', 'portrait'],\n",
    "            ['yellow', 'nature', 'medium', 'landscape'],\n",
    "            ['yellow', 'people', 'thumbnail', 'portrait'],\n",
    "            ['blue', 'people', 'medium', 'landscape'],\n",
    "            ['red', 'architecture', 'thumbnail','landscape']]\n",
    "result = [\n",
    "              'Favorite',\n",
    "              'NotFavorite',\n",
    "              'Favorite',\n",
    "              'Favorite',\n",
    "              'Favorite',\n",
    "              'Favorite',\n",
    "              'Favorite',\n",
    "              'NotFavorite',\n",
    "              'NotFavorite',\n",
    "              'Favorite',\n",
    "              'Favorite',\n",
    "              'NotFavorite',\n",
    "              'NotFavorite'\n",
    "              ]\n",
    "\n",
    "\n",
    "#creating dataframes\n",
    "dataframe = pd.DataFrame(data, columns=['color', 'tag', 'size', 'mode'])\n",
    "resultframe = pd.DataFrame(result, columns=['favorite'])\n",
    "\n",
    "#generating numerical labels\n",
    "le1 = LabelEncoder()\n",
    "dataframe['color'] = le1.fit_transform(dataframe['color'])\n",
    "\n",
    "le2 = LabelEncoder()\n",
    "dataframe['tag'] = le2.fit_transform(dataframe['tag'])\n",
    "\n",
    "le3 = LabelEncoder()\n",
    "dataframe['size'] = le3.fit_transform(dataframe['size'])\n",
    "\n",
    "le4 = LabelEncoder()\n",
    "dataframe['mode'] = le4.fit_transform(dataframe['mode'])\n",
    "\n",
    "le5 = LabelEncoder()\n",
    "resultframe['favorite'] = le5.fit_transform(resultframe['favorite'])\n",
    "\n",
    "#Use of decision tree classifiers\n",
    "rfc = RandomForestClassifier(n_estimators=10, max_depth=3,\n",
    "                  random_state=0,)\n",
    "rfc = rfc.fit(dataframe, resultframe.values.ravel())\n",
    "\n",
    "for i in range(10):\n",
    "        dot_data = tree.export_graphviz(rfc.estimators_[i], out_file=None,\n",
    "        feature_names=dataframe.columns,\n",
    "        filled=True, rounded=True,\n",
    "        class_names =\n",
    "         le5.inverse_transform(\n",
    "           resultframe.favorite.unique())\n",
    "        ) \n",
    "        graph = graphviz.Source(dot_data) \n",
    "        pydot_graph = pydotplus.graph_from_dot_data(dot_data)\n",
    "        img = Image(pydot_graph.create_png())\n",
    "        display(img)\n"
   ]
  },
  {
   "cell_type": "markdown",
   "id": "79d3c506",
   "metadata": {},
   "source": [
    "#### Exercice 3.4 \\[★★\\]\n",
    "\n"
   ]
  },
  {
   "cell_type": "markdown",
   "id": "555689ed",
   "metadata": {},
   "source": [
    "Nous avons maintenant divisé nos données MNIST (écriture) en deux : les données de formation et les données de test pour la création de modèles de prédiction et nous avons introduit les données de formation complètes dans notre classificateur. Cependant, dans la vie réelle, nous pouvons avoir de nouvelles données à former. Vérifiez le code suivant à l'aide du perceptron et comparez-le avec le code de l'exercice 3.3"
   ]
  },
  {
   "cell_type": "code",
   "execution_count": null,
   "id": "9b51fbb9",
   "metadata": {},
   "outputs": [],
   "source": [
    "from sklearn import datasets, metrics\n",
    "from sklearn.linear_model import Perceptron\n",
    "import numpy as np\n",
    "import matplotlib.pyplot as plot\n",
    "   \n",
    "digits = datasets.load_digits()\n",
    "training_size = int(digits.images.shape[0]/2)\n",
    "   \n",
    "training_images = digits.images[0:training_size]\n",
    "training_images = training_images.reshape(\n",
    "        (training_images.shape[0], -1))\n",
    "   \n",
    "training_target = digits.target[0:training_size]\n",
    "   \n",
    "classifier = Perceptron(max_iter=1000)\n",
    "#training\n",
    "for i in range(training_size):\n",
    "    training_data = np.array(training_images[i])\n",
    "    training_data = training_data.reshape(1, -1)\n",
    "    classifier.partial_fit(training_data,\n",
    "     [training_target[i]], classes=np.unique(digits.target))\n",
    "\n",
    "#prediction\n",
    "predict_images = digits.images[training_size+1:]\n",
    "actual_labels = digits.target[training_size+1:]\n",
    "predicted_labels = classifier.predict(\n",
    "predict_images.reshape((predict_images.shape[0], -1)))\n",
    "   \n",
    "#classification report\n",
    "print(metrics.classification_report(actual_labels,\n",
    "        predicted_labels))"
   ]
  },
  {
   "cell_type": "markdown",
   "id": "c428be0e",
   "metadata": {},
   "source": [
    "Cette approche est appelée [online machine training](https://en.wikipedia.org/wiki/Online_machine_learning) (ou\n",
    "[algorithme d'apprentissage incrémental\n",
    "(fr)](https://fr.wikipedia.org/wiki/Algorithme_d%27apprentissage_incr%C3%A9mental)).\n",
    "Avez-vous obtenu une bonne précision ?\n",
    "\n",
    "Votre prochaine question est de modifier le programme ci-dessus et de tester la formation en ligne avec **MLPClassifier**.\n",
    "\n",
    "Essayez de modifier (réduire et augmenter) la taille des données de la formation. Que sont\n",
    "vos observations ?"
   ]
  },
  {
   "cell_type": "markdown",
   "id": "443d24f3",
   "metadata": {},
   "source": [
    "Cela a-t-il fonctionné ? Essayons maintenant d'obtenir la précision de notre modèle. Est-ce que cela travail pour l'ensemble de nos données de test ?"
   ]
  },
  {
   "cell_type": "markdown",
   "id": "e0044673",
   "metadata": {},
   "source": [
    "Quelle est la précision que vous avez obtenue ? Changez maintenant le nombre de neurones dans chaque couche (actuellement, il est fixé à 50 chacun). Essayez également d'augmenter le nombre de couches cachées. Votre précision s'est-elle améliorée ?\n",
    "\n"
   ]
  }
 ],
 "metadata": {
  "kernelspec": {
   "display_name": "Python 3",
   "language": "python",
   "name": "python3"
  },
  "language_info": {
   "codemirror_mode": {
    "name": "ipython",
    "version": 3
   },
   "file_extension": ".py",
   "mimetype": "text/x-python",
   "name": "python",
   "nbconvert_exporter": "python",
   "pygments_lexer": "ipython3",
   "version": "3.6.9"
  }
 },
 "nbformat": 4,
 "nbformat_minor": 5
}
